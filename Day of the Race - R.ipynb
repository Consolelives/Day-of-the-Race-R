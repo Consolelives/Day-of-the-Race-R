{
 "cells": [
  {
   "cell_type": "markdown",
   "id": "3da1f8dd",
   "metadata": {},
   "source": [
    "\n",
    "# Day of the Race\n",
    "\n",
    "It’s the day of a citywide track race and you’re helping out your friends! You’ll be adding their jersey and color information to a list, helping display their information, and building a useful function to figure out what place your friends came in the race.\n"
   ]
  },
  {
   "cell_type": "code",
   "execution_count": 1,
   "id": "ff1b798d",
   "metadata": {},
   "outputs": [],
   "source": [
    "# create my friends vector here:\n",
    "friends <- c(\"Megan\", \"Janet\", \"Tina\")\n",
    "\n"
   ]
  },
  {
   "cell_type": "markdown",
   "id": "18df61bf",
   "metadata": {},
   "source": [
    "You want to help your friends upload some personal information. The race accepts jersey, and color associated with a name. Add on to the existing info_list with the following information so that selecting the person’s name from the list returns their jersey and color information:"
   ]
  },
  {
   "cell_type": "code",
   "execution_count": 2,
   "id": "030bbe2d",
   "metadata": {},
   "outputs": [],
   "source": [
    "# add on to the list here:\n",
    "info_list <- list(\n",
    "    Esther = list(\n",
    "    jersey = 3432,\n",
    "    color = \"purple\"\n",
    "  ),\n",
    "    Feng = list(\n",
    "    jersey = 4221,\n",
    "    color = \"blue\"\n",
    "  ),\n",
    "    Megan = list(\n",
    "    jersey = 1363,\n",
    "    color = \"green\"\n",
    "  ),\n",
    "    Janet = list(\n",
    "    jersey = 6729,\n",
    "    color = \"green\"\n",
    "  ),\n",
    "    Tina = list(\n",
    "    jersey = 7501,\n",
    "    color = \"orange\"\n",
    "  ))"
   ]
  },
  {
   "cell_type": "markdown",
   "id": "db271a97",
   "metadata": {},
   "source": [
    "See the existing function print_information. It takes a string like \"Megan\" and prints out their information in a sentence. Call it to print Megan, Janet, and Tina’s information."
   ]
  },
  {
   "cell_type": "code",
   "execution_count": 3,
   "id": "09225b54",
   "metadata": {},
   "outputs": [
    {
     "name": "stdout",
     "output_type": "stream",
     "text": [
      "[1] \"Megan is # 1363 wearing the color green\"\n",
      "[1] \"Janet is # 6729 wearing the color green\"\n",
      "[1] \"Tina is # 7501 wearing the color orange\"\n"
     ]
    }
   ],
   "source": [
    "print_information <- function(name){\n",
    "  print(paste(name, \"is #\", info_list[[name]]$jersey, \"wearing the color\", info_list[[name]]$color))\n",
    "}\n",
    "    \n",
    "# call the print_information function on the friends vector:\n",
    "for (i in friends){\n",
    "  print_information(i)\n",
    "}"
   ]
  },
  {
   "cell_type": "markdown",
   "id": "1287ba99",
   "metadata": {},
   "source": [
    "race_results contains the name of the race participants in the order that they finished. We want to write a function called find_place() that takes a runner’s name and returns the position that they finished the race in. For example, find_place(\"Francesca\") should return 2."
   ]
  },
  {
   "cell_type": "code",
   "execution_count": 4,
   "id": "ee0797fa",
   "metadata": {},
   "outputs": [],
   "source": [
    "race_results <- c(\"Gi\", \"Francesca\", \"Lea\", \"Vivian\", \"Jessica\", \"Esther\", \"Mary\", \"Yasmina\", \"Megan\", \"Janet\", \"Tiffany\", \"Kishan\", \"Feng\", \"Z\", \"Tina\")\n",
    "\n",
    "# write find_place() here:\n",
    "find_place <- function(name){\n",
    "    for (i in 1:length(race_results)){\n",
    "        if (race_results[i] == name){\n",
    "            return(i)}\n",
    "    } \n",
    "    return('Not Present')\n",
    "}\n"
   ]
  },
  {
   "cell_type": "markdown",
   "id": "c9da4022",
   "metadata": {},
   "source": [
    "Call the function"
   ]
  },
  {
   "cell_type": "code",
   "execution_count": 5,
   "id": "c68aacb8",
   "metadata": {},
   "outputs": [
    {
     "data": {
      "text/html": [
       "'Not Present'"
      ],
      "text/latex": [
       "'Not Present'"
      ],
      "text/markdown": [
       "'Not Present'"
      ],
      "text/plain": [
       "[1] \"Not Present\""
      ]
     },
     "metadata": {},
     "output_type": "display_data"
    },
    {
     "data": {
      "text/html": [
       "2"
      ],
      "text/latex": [
       "2"
      ],
      "text/markdown": [
       "2"
      ],
      "text/plain": [
       "[1] 2"
      ]
     },
     "metadata": {},
     "output_type": "display_data"
    }
   ],
   "source": [
    "find_place(\"Lekan\")\n",
    "find_place(\"Francesca\")"
   ]
  },
  {
   "cell_type": "markdown",
   "id": "87b68137",
   "metadata": {},
   "source": [
    "Apply the find_place function on the friends vector using lapply()."
   ]
  },
  {
   "cell_type": "code",
   "execution_count": 6,
   "id": "341ac198",
   "metadata": {},
   "outputs": [
    {
     "data": {
      "text/html": [
       "<ol>\n",
       "\t<li>9</li>\n",
       "\t<li>10</li>\n",
       "\t<li>15</li>\n",
       "</ol>\n"
      ],
      "text/latex": [
       "\\begin{enumerate}\n",
       "\\item 9\n",
       "\\item 10\n",
       "\\item 15\n",
       "\\end{enumerate}\n"
      ],
      "text/markdown": [
       "1. 9\n",
       "2. 10\n",
       "3. 15\n",
       "\n",
       "\n"
      ],
      "text/plain": [
       "[[1]]\n",
       "[1] 9\n",
       "\n",
       "[[2]]\n",
       "[1] 10\n",
       "\n",
       "[[3]]\n",
       "[1] 15\n"
      ]
     },
     "metadata": {},
     "output_type": "display_data"
    }
   ],
   "source": [
    "lapply(friends, find_place)"
   ]
  },
  {
   "cell_type": "markdown",
   "id": "a438222d",
   "metadata": {},
   "source": [
    "Now apply the same function on the friends vector using sapply()"
   ]
  },
  {
   "cell_type": "code",
   "execution_count": 7,
   "id": "3f008ea7",
   "metadata": {},
   "outputs": [
    {
     "data": {
      "text/html": [
       "<dl class=dl-horizontal>\n",
       "\t<dt>Megan</dt>\n",
       "\t\t<dd>9</dd>\n",
       "\t<dt>Janet</dt>\n",
       "\t\t<dd>10</dd>\n",
       "\t<dt>Tina</dt>\n",
       "\t\t<dd>15</dd>\n",
       "</dl>\n"
      ],
      "text/latex": [
       "\\begin{description*}\n",
       "\\item[Megan] 9\n",
       "\\item[Janet] 10\n",
       "\\item[Tina] 15\n",
       "\\end{description*}\n"
      ],
      "text/markdown": [
       "Megan\n",
       ":   9Janet\n",
       ":   10Tina\n",
       ":   15\n",
       "\n"
      ],
      "text/plain": [
       "Megan Janet  Tina \n",
       "    9    10    15 "
      ]
     },
     "metadata": {},
     "output_type": "display_data"
    }
   ],
   "source": [
    "sapply(friends, find_place)"
   ]
  },
  {
   "cell_type": "code",
   "execution_count": null,
   "id": "be1698d3",
   "metadata": {},
   "outputs": [],
   "source": []
  }
 ],
 "metadata": {
  "kernelspec": {
   "display_name": "R",
   "language": "R",
   "name": "ir"
  },
  "language_info": {
   "codemirror_mode": "r",
   "file_extension": ".r",
   "mimetype": "text/x-r-source",
   "name": "R",
   "pygments_lexer": "r",
   "version": "3.6.1"
  }
 },
 "nbformat": 4,
 "nbformat_minor": 5
}
